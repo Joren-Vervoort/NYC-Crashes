{
 "cells": [
  {
   "cell_type": "markdown",
   "id": "institutional-banks",
   "metadata": {},
   "source": [
    "# Clean_Data_BAD"
   ]
  },
  {
   "cell_type": "markdown",
   "id": "pediatric-porcelain",
   "metadata": {},
   "source": [
    "## Imported libraries"
   ]
  },
  {
   "cell_type": "code",
   "execution_count": 230,
   "id": "authorized-specification",
   "metadata": {},
   "outputs": [],
   "source": [
    "import pandas as pd #To work with dataframes\n",
    "import numpy as np #To work with np.arrays"
   ]
  },
  {
   "cell_type": "markdown",
   "id": "limited-velvet",
   "metadata": {},
   "source": [
    "## Reading the data"
   ]
  },
  {
   "cell_type": "code",
   "execution_count": 231,
   "id": "vanilla-russell",
   "metadata": {},
   "outputs": [],
   "source": [
    "df = pd.read_csv('./datasets/data_100000.csv')"
   ]
  },
  {
   "cell_type": "markdown",
   "id": "changing-armor",
   "metadata": {},
   "source": [
    "## Preprocessing the data"
   ]
  },
  {
   "cell_type": "markdown",
   "id": "american-refund",
   "metadata": {},
   "source": [
    "#### Dropping columns with excessive (or duplicate) information"
   ]
  },
  {
   "cell_type": "code",
   "execution_count": 233,
   "id": "threatened-exclusive",
   "metadata": {},
   "outputs": [],
   "source": [
    "\"\"\"\n",
    "information about the dropped columns: \n",
    "- contributing_factor_vehicle_1 to contributing_factor_vehicle_5: Not neccessary to know the most dangerous streets\n",
    "- vehicle_type_code1, vehicle_type_code2: Not neccessary to know the most dangerous streets\n",
    "- vehicle_type_code_3 tot vehicle_type_code_5: Not neccessary to know the most dangerous streets\n",
    "- location: Because the latitude and longitude are already available, this information is excessive\n",
    "- zip_code: Assuming that streetnames are not used more than once for all zip_codes\n",
    "- borough: Assuming that streetnames are not used more than once for all boroughs\n",
    "- off_street_name: Only focussing on on_street_name\n",
    "- cross_street_name: Only focussing on on_street_name\n",
    "\n",
    "\"\"\"\n",
    "\n",
    "df = df.drop(['contributing_factor_vehicle_1',\n",
    "         'contributing_factor_vehicle_2',\n",
    "         'contributing_factor_vehicle_3',\n",
    "        'contributing_factor_vehicle_4',\n",
    "        'contributing_factor_vehicle_5',\n",
    "              \"vehicle_type_code1\",\n",
    "              \"vehicle_type_code2\",\n",
    "              \"vehicle_type_code_3\",\n",
    "              \"vehicle_type_code_4\",\n",
    "              \"vehicle_type_code_5\",\n",
    "              'location',\n",
    "              'zip_code',\n",
    "             'borough',\n",
    "              'off_street_name',\n",
    "             'cross_street_name'], axis=1)"
   ]
  },
  {
   "cell_type": "markdown",
   "id": "funny-letter",
   "metadata": {},
   "source": [
    "#### Replacing empty values(\"\" of null) with NaN"
   ]
  },
  {
   "cell_type": "code",
   "execution_count": 234,
   "id": "moderate-maker",
   "metadata": {},
   "outputs": [],
   "source": [
    "df = df.replace(r'^\\s*$', np.nan, regex=True)\n",
    "df = df.replace([\"null\",\"NULL\",\"Null\"], np.nan)"
   ]
  },
  {
   "cell_type": "markdown",
   "id": "executive-quarter",
   "metadata": {},
   "source": [
    "#### Removing all rows that contain NaN values within column on_street_name"
   ]
  },
  {
   "cell_type": "code",
   "execution_count": 235,
   "id": "coral-turkey",
   "metadata": {},
   "outputs": [],
   "source": [
    "df = df[df['on_street_name'].notna()]"
   ]
  },
  {
   "cell_type": "markdown",
   "id": "guided-uncertainty",
   "metadata": {},
   "source": [
    "#### Changing the dataframe to dtype: \"string\""
   ]
  },
  {
   "cell_type": "code",
   "execution_count": 236,
   "id": "dutch-legend",
   "metadata": {},
   "outputs": [],
   "source": [
    "df = df.applymap(str)"
   ]
  },
  {
   "cell_type": "markdown",
   "id": "welsh-option",
   "metadata": {},
   "source": [
    "#### Removing all the excessive white spaces"
   ]
  },
  {
   "cell_type": "code",
   "execution_count": 237,
   "id": "beautiful-insertion",
   "metadata": {},
   "outputs": [],
   "source": [
    "df = df.applymap(str.strip).rename(columns=str.strip)"
   ]
  },
  {
   "cell_type": "markdown",
   "id": "together-graham",
   "metadata": {},
   "source": [
    "#### Chaning the dtypes of each column to the correct form and consolidate them if necessary"
   ]
  },
  {
   "cell_type": "code",
   "execution_count": 239,
   "id": "convertible-reggae",
   "metadata": {},
   "outputs": [],
   "source": [
    "df.crash_date = df.crash_date.astype('datetime64')\n",
    "\n",
    "df.on_street_name = df.on_street_name.astype('string').str.upper()\n",
    "\n",
    "df.number_of_persons_killed = df.number_of_persons_killed.astype('int8')\n",
    "df.number_of_persons_injured = df.number_of_persons_injured.astype('int8')\n",
    "df.number_of_pedestrians_killed = df.number_of_pedestrians_killed.astype('int8')\n",
    "df.number_of_pedestrians_injured = df.number_of_pedestrians_injured.astype('int8')\n",
    "df.number_of_cyclist_killed = df.number_of_cyclist_killed.astype('int8')\n",
    "df.number_of_cyclist_injured = df.number_of_cyclist_injured.astype('int8')\n",
    "df.number_of_motorist_killed = df.number_of_motorist_killed.astype('int8')\n",
    "df.number_of_motorist_injured = df.number_of_motorist_injured.astype('int8')"
   ]
  },
  {
   "cell_type": "markdown",
   "id": "beneficial-token",
   "metadata": {},
   "source": [
    "#### Setting collision_id as index"
   ]
  },
  {
   "cell_type": "code",
   "execution_count": 240,
   "id": "wired-luxembourg",
   "metadata": {},
   "outputs": [],
   "source": [
    "df = df.set_index(\"collision_id\")"
   ]
  },
  {
   "cell_type": "markdown",
   "id": "sporting-boston",
   "metadata": {},
   "source": [
    "#### Replacing all \"NAN\" string values with np.nan (NaN) values"
   ]
  },
  {
   "cell_type": "code",
   "execution_count": 241,
   "id": "sufficient-comedy",
   "metadata": {},
   "outputs": [],
   "source": [
    "df = df.replace([\"NAN\"], np.nan)"
   ]
  },
  {
   "cell_type": "markdown",
   "id": "controversial-opera",
   "metadata": {},
   "source": [
    "## Saving the preprocessed data as .csv file"
   ]
  },
  {
   "cell_type": "code",
   "execution_count": 242,
   "id": "silver-driver",
   "metadata": {},
   "outputs": [],
   "source": [
    "df.to_csv(\"Clean_data_BAD.csv\")"
   ]
  },
  {
   "cell_type": "code",
   "execution_count": null,
   "id": "maritime-saudi",
   "metadata": {},
   "outputs": [],
   "source": []
  }
 ],
 "metadata": {
  "kernelspec": {
   "display_name": "Standard Work Kernel",
   "language": "python",
   "name": "standard_work_env"
  },
  "language_info": {
   "codemirror_mode": {
    "name": "ipython",
    "version": 3
   },
   "file_extension": ".py",
   "mimetype": "text/x-python",
   "name": "python",
   "nbconvert_exporter": "python",
   "pygments_lexer": "ipython3",
   "version": "3.7.10"
  }
 },
 "nbformat": 4,
 "nbformat_minor": 5
}
