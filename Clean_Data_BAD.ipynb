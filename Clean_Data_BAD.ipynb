{
 "cells": [
  {
   "cell_type": "markdown",
   "id": "institutional-banks",
   "metadata": {},
   "source": [
    "# Clean_Data_BAD"
   ]
  },
  {
   "cell_type": "markdown",
   "id": "shaped-constant",
   "metadata": {},
   "source": [
    "## Imported libraries"
   ]
  },
  {
   "cell_type": "code",
   "execution_count": 1,
   "id": "authorized-specification",
   "metadata": {},
   "outputs": [],
   "source": [
    "import pandas as pd #To work with dataframes\n",
    "import numpy as np #To work with np.arrays"
   ]
  },
  {
   "cell_type": "markdown",
   "id": "dynamic-southeast",
   "metadata": {},
   "source": [
    "## Reading the data"
   ]
  },
  {
   "cell_type": "code",
   "execution_count": 2,
   "id": "vanilla-russell",
   "metadata": {},
   "outputs": [],
   "source": [
    "df = pd.read_csv('./datasets/data_100000.csv')"
   ]
  },
  {
   "cell_type": "markdown",
   "id": "funky-welding",
   "metadata": {},
   "source": [
    "## Preprocessing the data"
   ]
  },
  {
   "cell_type": "markdown",
   "id": "expired-heating",
   "metadata": {},
   "source": [
    "#### Dropping columns with excessive (or duplicate) information"
   ]
  },
  {
   "cell_type": "code",
   "execution_count": 3,
   "id": "threatened-exclusive",
   "metadata": {},
   "outputs": [],
   "source": [
    "\"\"\"\n",
    "information about the dropped columns: \n",
    "- contributing_factor_vehicle_1 to contributing_factor_vehicle_5: Not neccessary to know the most dangerous streets\n",
    "- vehicle_type_code1, vehicle_type_code2: Not neccessary to know the most dangerous streets\n",
    "- vehicle_type_code_3 tot vehicle_type_code_5: Not neccessary to know the most dangerous streets\n",
    "- location: Because the latitude and longitude are already available, this information is excessive\n",
    "- zip_code: Assuming that streetnames are not used more than once for all zip_codes\n",
    "- borough: Assuming that streetnames are not used more than once for all boroughs\n",
    "- off_street_name: Only focussing on on_street_name\n",
    "- cross_street_name: Only focussing on on_street_name\n",
    "\n",
    "\"\"\"\n",
    "\n",
    "df = df.drop(['contributing_factor_vehicle_1',\n",
    "         'contributing_factor_vehicle_2',\n",
    "         'contributing_factor_vehicle_3',\n",
    "        'contributing_factor_vehicle_4',\n",
    "        'contributing_factor_vehicle_5',\n",
    "              \"vehicle_type_code1\",\n",
    "              \"vehicle_type_code2\",\n",
    "              \"vehicle_type_code_3\",\n",
    "              \"vehicle_type_code_4\",\n",
    "              \"vehicle_type_code_5\",\n",
    "              'location',\n",
    "              'zip_code',\n",
    "             'borough',\n",
    "              'off_street_name',\n",
    "             'cross_street_name'], axis=1)"
   ]
  },
  {
   "cell_type": "markdown",
   "id": "broken-promise",
   "metadata": {},
   "source": [
    "#### Replacing empty values(\"\" of null) with \"Information not available\" string"
   ]
  },
  {
   "cell_type": "code",
   "execution_count": 4,
   "id": "moderate-maker",
   "metadata": {},
   "outputs": [],
   "source": [
    "df = df.replace(r'^\\s*$', np.nan, regex=True)\n",
    "df = df.fillna(\"Information not available\")"
   ]
  },
  {
   "cell_type": "markdown",
   "id": "nonprofit-draft",
   "metadata": {},
   "source": [
    "#### Removing all rows that contain \"Information not available\" string within column on_street_name"
   ]
  },
  {
   "cell_type": "code",
   "execution_count": 5,
   "id": "coral-turkey",
   "metadata": {},
   "outputs": [],
   "source": [
    "df = df[df['on_street_name'] != \"Information not available\"]"
   ]
  },
  {
   "cell_type": "markdown",
   "id": "statewide-sleeping",
   "metadata": {},
   "source": [
    "#### Changing the dataframe to dtype: \"string\""
   ]
  },
  {
   "cell_type": "code",
   "execution_count": 6,
   "id": "dutch-legend",
   "metadata": {},
   "outputs": [],
   "source": [
    "df = df.applymap(str)"
   ]
  },
  {
   "cell_type": "markdown",
   "id": "alone-stuart",
   "metadata": {},
   "source": [
    "#### Removing all the excessive white spaces"
   ]
  },
  {
   "cell_type": "code",
   "execution_count": 7,
   "id": "beautiful-insertion",
   "metadata": {},
   "outputs": [],
   "source": [
    "df = df.applymap(str.strip).rename(columns=str.strip)"
   ]
  },
  {
   "cell_type": "markdown",
   "id": "wireless-french",
   "metadata": {},
   "source": [
    "#### Changing the dtypes of each column to the correct form and consolidate them if necessary"
   ]
  },
  {
   "cell_type": "code",
   "execution_count": 8,
   "id": "dental-philadelphia",
   "metadata": {},
   "outputs": [],
   "source": [
    "df.crash_date = df.crash_date.astype('datetime64')\n",
    "\n",
    "df.on_street_name = df.on_street_name.astype('string').str.upper()\n",
    "\n",
    "df.number_of_persons_killed = df.number_of_persons_killed.astype('int8')\n",
    "df.number_of_persons_injured = df.number_of_persons_injured.astype('int8')\n",
    "df.number_of_pedestrians_killed = df.number_of_pedestrians_killed.astype('int8')\n",
    "df.number_of_pedestrians_injured = df.number_of_pedestrians_injured.astype('int8')\n",
    "df.number_of_cyclist_killed = df.number_of_cyclist_killed.astype('int8')\n",
    "df.number_of_cyclist_injured = df.number_of_cyclist_injured.astype('int8')\n",
    "df.number_of_motorist_killed = df.number_of_motorist_killed.astype('int8')\n",
    "df.number_of_motorist_injured = df.number_of_motorist_injured.astype('int8')"
   ]
  },
  {
   "cell_type": "markdown",
   "id": "humanitarian-texture",
   "metadata": {},
   "source": [
    "#### Setting collision_id as index"
   ]
  },
  {
   "cell_type": "code",
   "execution_count": 9,
   "id": "bronze-consensus",
   "metadata": {},
   "outputs": [],
   "source": [
    "df = df.set_index(\"collision_id\")"
   ]
  },
  {
   "cell_type": "markdown",
   "id": "educated-front",
   "metadata": {},
   "source": [
    "#### Replacing all \"\"Information not available\"\" string values with \"INFORMATION NOT AVAILABLE\" string values"
   ]
  },
  {
   "cell_type": "code",
   "execution_count": 10,
   "id": "narrative-trial",
   "metadata": {},
   "outputs": [],
   "source": [
    "df = df.replace([\"Information not available\"], [\"INFORMATION NOT AVAILABLE\"])"
   ]
  },
  {
   "cell_type": "markdown",
   "id": "altered-chrome",
   "metadata": {},
   "source": [
    "## Saving the preprocessed data as .csv file"
   ]
  },
  {
   "cell_type": "code",
   "execution_count": 11,
   "id": "european-feeling",
   "metadata": {},
   "outputs": [],
   "source": [
    "df.to_csv(\"Clean_data_BAD.csv\")"
   ]
  },
  {
   "cell_type": "code",
   "execution_count": null,
   "id": "aware-discharge",
   "metadata": {},
   "outputs": [],
   "source": []
  },
  {
   "cell_type": "code",
   "execution_count": null,
   "id": "fabulous-candidate",
   "metadata": {},
   "outputs": [],
   "source": []
  }
 ],
 "metadata": {
  "kernelspec": {
   "display_name": "Standard Work Kernel",
   "language": "python",
   "name": "standard_work_env"
  },
  "language_info": {
   "codemirror_mode": {
    "name": "ipython",
    "version": 3
   },
   "file_extension": ".py",
   "mimetype": "text/x-python",
   "name": "python",
   "nbconvert_exporter": "python",
   "pygments_lexer": "ipython3",
   "version": "3.7.10"
  }
 },
 "nbformat": 4,
 "nbformat_minor": 5
}
